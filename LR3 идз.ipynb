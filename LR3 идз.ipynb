{
 "cells": [
  {
   "cell_type": "markdown",
   "id": "37bef923",
   "metadata": {},
   "source": [
    "## Индивидуальное задание"
   ]
  },
  {
   "cell_type": "markdown",
   "id": "dfede0e1",
   "metadata": {},
   "source": [
    "Найти вторую производную функции y = xe(x2)"
   ]
  },
  {
   "cell_type": "code",
   "execution_count": 1,
   "id": "380ba9a8",
   "metadata": {},
   "outputs": [
    {
     "data": {
      "text/latex": [
       "$\\displaystyle 2 x \\left(2 x^{2} + 3\\right) e^{x^{2}}$"
      ],
      "text/plain": [
       "2*x*(2*x**2 + 3)*exp(x**2)"
      ]
     },
     "execution_count": 1,
     "metadata": {},
     "output_type": "execute_result"
    }
   ],
   "source": [
    "from sympy import *\n",
    "x = symbols('x')\n",
    "y = x*exp(x**2)\n",
    "diff(y, x, 2)"
   ]
  },
  {
   "cell_type": "markdown",
   "id": "49354018",
   "metadata": {},
   "source": [
    "Опытным путем установлено, что объем q продукции, производимой на некотором предприятии одним среднестатистическим рабочим в течение рабочей смены (8 часов), определяется формулой: q = -0.05t^3 + 0.45*t^2 + 5t (0 <= t <=8)\n",
    "\n",
    "Здесь t – время в часах. Требуется установить зависимость y = y(t) производительности труда рабочего от времени и построить график этой зависимости."
   ]
  },
  {
   "cell_type": "code",
   "execution_count": 2,
   "id": "bfdd8e60",
   "metadata": {},
   "outputs": [
    {
     "name": "stdout",
     "output_type": "stream",
     "text": [
      "-0.15*t**2 + 0.9*t + 5\n"
     ]
    }
   ],
   "source": [
    "from sympy import *\n",
    "import numpy as np\n",
    "import matplotlib.pyplot as plt\n",
    "t = symbols('t')\n",
    "q = -0.05*t**3 + 0.45*t**2 + 5*t\n",
    "y = diff(q, t)\n",
    "print(y)"
   ]
  },
  {
   "cell_type": "code",
   "execution_count": 3,
   "id": "c653b1f4",
   "metadata": {},
   "outputs": [
    {
     "data": {
      "image/png": "[encoded data removed]",
      "text/plain": [
       "<Figure size 432x288 with 1 Axes>"
      ]
     },
     "metadata": {
      "needs_background": "light"
     },
     "output_type": "display_data"
    }
   ],
   "source": [
    "t = np.linspace(0, 8, 100)\n",
    "z = -0.15*t**2 + 0.9*t + 5\n",
    "plt.plot(t, z, '-', lw = 2, color = 'r')\n",
    "plt.grid(True)\n",
    "plt.plot([0], [5], 'o', color = 'y')\n",
    "plt.plot([3], [6.35], 'o', color = '0.4')\n",
    "plt.plot([8], [2.6], 'o', color = 'y')\n",
    "plt.show()"
   ]
  },
  {
   "cell_type": "markdown",
   "id": "6bd831cd",
   "metadata": {},
   "source": [
    "Графиком этой зависимости y от t является парабола с ветвями, направленными вниз (рис.1). Приведенный график показывает, что производительность труда в первые три часа работы возрастает (с 5 до 6,35 единиц продукции в час), а потом монотонно падает, и к концу рабочего дня составляет лишь 2,6 единиц продукции в час."
   ]
  }
 ],
 "metadata": {
  "kernelspec": {
   "display_name": "Python 3",
   "language": "python",
   "name": "python3"
  },
  "language_info": {
   "codemirror_mode": {
    "name": "ipython",
    "version": 3
   },
   "file_extension": ".py",
   "mimetype": "text/x-python",
   "name": "python",
   "nbconvert_exporter": "python",
   "pygments_lexer": "ipython3",
   "version": "3.8.8"
  }
 },
 "nbformat": 4,
 "nbformat_minor": 5
}
