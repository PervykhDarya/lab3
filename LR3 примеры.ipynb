{
 "cells": [
  {
   "cell_type": "markdown",
   "id": "da0da401",
   "metadata": {},
   "source": [
    "# Вычисление производных"
   ]
  },
  {
   "cell_type": "code",
   "execution_count": 18,
   "id": "30a6db7c",
   "metadata": {},
   "outputs": [
    {
     "data": {
      "text/latex": [
       "$\\displaystyle \\frac{2}{x^{3}}$"
      ],
      "text/plain": [
       "2/x**3"
      ]
     },
     "execution_count": 18,
     "metadata": {},
     "output_type": "execute_result"
    }
   ],
   "source": [
    "х = symbols('x')\n",
    "diff(log(x), х, 3)"
   ]
  },
  {
   "cell_type": "code",
   "execution_count": 13,
   "id": "422a5057",
   "metadata": {},
   "outputs": [
    {
     "data": {
      "text/latex": [
       "$\\displaystyle - x \\sin{\\left(x \\right)} + \\cos{\\left(x \\right)}$"
      ],
      "text/plain": [
       "-x*sin(x) + cos(x)"
      ]
     },
     "execution_count": 13,
     "metadata": {},
     "output_type": "execute_result"
    }
   ],
   "source": [
    "x = symbols('x')\n",
    "y = x*cos(x)\n",
    "diff(x*cos(x), x)"
   ]
  },
  {
   "cell_type": "code",
   "execution_count": 19,
   "id": "0231c048",
   "metadata": {},
   "outputs": [
    {
     "data": {
      "text/latex": [
       "$\\displaystyle - \\frac{9 \\left(-6 + \\log{\\left(1000 \\right)}\\right) \\log{\\left(1000 \\right)}}{100 \\log{\\left(10 \\right)}^{3}}$"
      ],
      "text/plain": [
       "-9*(-6 + log(1000))*log(1000)/(100*log(10)**3)"
      ]
     },
     "execution_count": 19,
     "metadata": {},
     "output_type": "execute_result"
    }
   ],
   "source": [
    "у = log(x**3,10)**3\n",
    "diff(у,x,2).subs(x,10)"
   ]
  },
  {
   "cell_type": "code",
   "execution_count": 21,
   "id": "99a1cf43",
   "metadata": {},
   "outputs": [
    {
     "data": {
      "text/latex": [
       "$\\displaystyle \\frac{81 \\left(2 - \\log{\\left(10 \\right)}\\right)}{100 \\log{\\left(10 \\right)}^{2}}$"
      ],
      "text/plain": [
       "81*(2 - log(10))/(100*log(10)**2)"
      ]
     },
     "execution_count": 21,
     "metadata": {},
     "output_type": "execute_result"
    }
   ],
   "source": [
    "у = log(x**3,10)**3\n",
    "diff(у,x,2).subs(х,10).simplify()"
   ]
  },
  {
   "cell_type": "code",
   "execution_count": 25,
   "id": "366841e6",
   "metadata": {},
   "outputs": [
    {
     "data": {
      "text/plain": [
       "[7/11]"
      ]
     },
     "execution_count": 25,
     "metadata": {},
     "output_type": "execute_result"
    }
   ],
   "source": [
    "у = (х**2+х-6)/(х**2-10*х+25)\n",
    "z = diff(у,x)\n",
    "solve(z, х)"
   ]
  },
  {
   "cell_type": "markdown",
   "id": "5203500e",
   "metadata": {},
   "source": [
    "## Производная функции, заданной в параметрической форме"
   ]
  },
  {
   "cell_type": "code",
   "execution_count": 38,
   "id": "a1208855",
   "metadata": {},
   "outputs": [
    {
     "data": {
      "text/latex": [
       "$\\displaystyle - \\frac{1}{\\left(\\cos{\\left(t \\right)} - 1\\right)^{2}}$"
      ],
      "text/plain": [
       "-1/(cos(t) - 1)**2"
      ]
     },
     "execution_count": 38,
     "metadata": {},
     "output_type": "execute_result"
    }
   ],
   "source": [
    "t = symbols(' t')\n",
    "x = t - sin(t)\n",
    "у = 1 - cos(t)\n",
    "y_diff = diff(у,t)/diff(x,t)\n",
    "y_2diff = diff(y_diff,t)/diff(x,t)\n",
    "y_2diff.simplify()"
   ]
  },
  {
   "cell_type": "markdown",
   "id": "df7ca607",
   "metadata": {},
   "source": [
    "## Односторонняя производная"
   ]
  },
  {
   "cell_type": "code",
   "execution_count": 5,
   "id": "e67617b2",
   "metadata": {
    "scrolled": true
   },
   "outputs": [
    {
     "data": {
      "image/png": "[encoded data removed]",
      "text/plain": [
       "<Figure size 432x288 with 1 Axes>"
      ]
     },
     "metadata": {
      "needs_background": "light"
     },
     "output_type": "display_data"
    }
   ],
   "source": [
    "import numpy as np\n",
    "import matplotlib.pyplot as plt\n",
    "\n",
    "\n",
    "%matplotlib inline\n",
    "x = np.linspace(-2, 2, 500)\n",
    "x[(x > -0.01) & (x < 0.01)] = np.nan\n",
    "y = np.arctan(1 / x)\n",
    "plt.plot(x, y)\n",
    "plt.vlines(0, -1.6, 1.6, color = 'g', linestyles = 'dashed')\n",
    "plt.show()"
   ]
  },
  {
   "cell_type": "code",
   "execution_count": 48,
   "id": "aebb44ad",
   "metadata": {},
   "outputs": [
    {
     "data": {
      "text/latex": [
       "$\\displaystyle 0$"
      ],
      "text/plain": [
       "0"
      ]
     },
     "execution_count": 48,
     "metadata": {},
     "output_type": "execute_result"
    }
   ],
   "source": [
    "у = atan(1/x)\n",
    "z = diff(y,x)\n",
    "limit(z, х, 0, dir=\"-\")"
   ]
  },
  {
   "cell_type": "code",
   "execution_count": 49,
   "id": "d1d8998d",
   "metadata": {},
   "outputs": [
    {
     "data": {
      "text/latex": [
       "$\\displaystyle 0$"
      ],
      "text/plain": [
       "0"
      ]
     },
     "execution_count": 49,
     "metadata": {},
     "output_type": "execute_result"
    }
   ],
   "source": [
    "limit(z, х, 0, dir=\"+\")"
   ]
  },
  {
   "cell_type": "code",
   "execution_count": 16,
   "id": "3872ceda",
   "metadata": {},
   "outputs": [
    {
     "data": {
      "text/latex": [
       "$\\displaystyle \\frac{\\sin{\\left(t \\right)}}{1 - \\cos{\\left(t \\right)}}$"
      ],
      "text/plain": [
       "sin(t)/(1 - cos(t))"
      ]
     },
     "execution_count": 16,
     "metadata": {},
     "output_type": "execute_result"
    }
   ],
   "source": [
    "t = symbols('t')\n",
    "x = t - sin(t)\n",
    "y = 1 - cos(t)\n",
    "y_diff = diff(y, t) / diff(x, t)\n",
    "y_diff"
   ]
  },
  {
   "cell_type": "code",
   "execution_count": 17,
   "id": "318a3520",
   "metadata": {
    "scrolled": true
   },
   "outputs": [
    {
     "data": {
      "text/latex": [
       "$\\displaystyle - \\frac{1}{\\left(\\cos{\\left(t \\right)} - 1\\right)^{2}}$"
      ],
      "text/plain": [
       "-1/(cos(t) - 1)**2"
      ]
     },
     "execution_count": 17,
     "metadata": {},
     "output_type": "execute_result"
    }
   ],
   "source": [
    "y_2diff = diff(y_diff, t) / diff(x, t)\n",
    "y_2diff.simplify()"
   ]
  },
  {
   "cell_type": "markdown",
   "id": "afaa5b86",
   "metadata": {},
   "source": [
    "## Уравнение касательной"
   ]
  },
  {
   "cell_type": "code",
   "execution_count": 19,
   "id": "8f1a08a3",
   "metadata": {
    "scrolled": true
   },
   "outputs": [
    {
     "data": {
      "image/png": "[encoded data removed]",
      "text/plain": [
       "<Figure size 432x288 with 1 Axes>"
      ]
     },
     "metadata": {
      "needs_background": "light"
     },
     "output_type": "display_data"
    }
   ],
   "source": [
    "x = np.linspace(-3, 4, 50)\n",
    "y1 = x**2\n",
    "plt.plot(x, y1, lw = 2, c = 'b')\n",
    "\n",
    "x = np.linspace(-1, 4, 50)\n",
    "y2 = 4*x - 4\n",
    "plt.plot(x, y2, c = 'r')\n",
    "\n",
    "plt.xlabel('x')\n",
    "plt.ylabel('y')\n",
    "plt.grid(True, linestyle = '-', color = '0.4')\n",
    "\n",
    "plt.show()"
   ]
  },
  {
   "cell_type": "code",
   "execution_count": 58,
   "id": "bc152b9f",
   "metadata": {
    "scrolled": true
   },
   "outputs": [
    {
     "data": {
      "image/png": "[encoded data removed]",
      "text/plain": [
       "<Figure size 432x288 with 1 Axes>"
      ]
     },
     "metadata": {
      "needs_background": "light"
     },
     "output_type": "display_data"
    }
   ],
   "source": [
    "x = np.linspace(0,7,50)\n",
    "yl = np.sqrt(x)\n",
    "pit.plot(x,yl,lw=2,c='b')\n",
    "x = np.linspace(-4,7,50)\n",
    "y2 = x/4 + 1\n",
    "pit.plot(x,y2,c='r')\n",
    "plt.xlabel('x')\n",
    "pit.ylabel('y')\n",
    "pit .grid (True, linestyle='-', color='0.4')\n",
    "plt.show()"
   ]
  },
  {
   "cell_type": "code",
   "execution_count": 21,
   "id": "8a79381d",
   "metadata": {},
   "outputs": [
    {
     "data": {
      "text/latex": [
       "$\\displaystyle - \\frac{x}{4} + y - 24$"
      ],
      "text/plain": [
       "-x/4 + y - 24"
      ]
     },
     "execution_count": 21,
     "metadata": {},
     "output_type": "execute_result"
    }
   ],
   "source": [
    "x = symbols('x')\n",
    "y = 6*x**(1/3) + 2*sqrt(x)\n",
    "x0 = 64\n",
    "y0 = y.subs(x, x0)\n",
    "l = tangent(y, 64)\n",
    "l.equation()"
   ]
  },
  {
   "cell_type": "code",
   "execution_count": 22,
   "id": "4e0b826c",
   "metadata": {},
   "outputs": [
    {
     "data": {
      "text/latex": [
       "$\\displaystyle - x - \\frac{y}{4} + 74$"
      ],
      "text/plain": [
       "-x - y/4 + 74"
      ]
     },
     "execution_count": 22,
     "metadata": {},
     "output_type": "execute_result"
    }
   ],
   "source": [
    "p = Point(x0,y0)\n",
    "l.perpendicular_line(p).equation()"
   ]
  },
  {
   "cell_type": "code",
   "execution_count": 23,
   "id": "d1b63f70",
   "metadata": {},
   "outputs": [
    {
     "data": {
      "image/png": "[encoded data removed]",
      "text/plain": [
       "<Figure size 432x288 with 1 Axes>"
      ]
     },
     "metadata": {
      "needs_background": "light"
     },
     "output_type": "display_data"
    }
   ],
   "source": [
    "x = np.linspace(0, 120, 50)\n",
    "y1 = 6*x**(1/3) + 2*x**(1/2)\n",
    "plt.plot(x, y1, lw=2, c='r')\n",
    "\n",
    "х = np.linspace(10, 120, 50)\n",
    "у2 = x/4 + 24\n",
    "plt.plot(x, y2, '--', lw=2, c='b')\n",
    "\n",
    "х = np.linspace(60, 70, 50)\n",
    "y3 = 296 - 4*x\n",
    "plt.plot(x, y3, '-.', lw=2, c='g')\n",
    "\n",
    "plt.xlabel('х')\n",
    "plt.ylabel('у')\n",
    "plt.grid(True, linestyle='-', color='0.4')\n",
    "plt.axis('equal')\n",
    "plt.show()"
   ]
  },
  {
   "cell_type": "code",
   "execution_count": 24,
   "id": "4fb0d02d",
   "metadata": {},
   "outputs": [],
   "source": [
    "def tangent_from_point(y, x1, y1):\n",
    "    x, x0, y0 = symbols('x x0 y0')\n",
    "    y_diff = diff(y, x).subs(x, x0)\n",
    "    y_tang = y_diff*(x - x0) + y0\n",
    "    first_eq = y.subs(x, x0) - y0\n",
    "    second_eq = y_tang.subs(x, x1) - y1\n",
    "    res = solve([first_eq, second_eq], \\\n",
    "               [x0, y0], dict = True)\n",
    "    if len(res) == 1: \n",
    "        x01 = res[0][x0]\n",
    "        y01 = res[0][y0]\n",
    "        return Line((x01, y01), (x1, y1))\n",
    "    else: \n",
    "        x021 = res[0][x0]; y021 = res[0][y0]\n",
    "        x022 = res[1][x0]; y022 = res[1][y0]\n",
    "        return Line((x021, y021), (x1, y1)), \\\n",
    "               Line((x022, y022), (x1, y1))"
   ]
  },
  {
   "cell_type": "code",
   "execution_count": 25,
   "id": "75e61db1",
   "metadata": {
    "scrolled": true
   },
   "outputs": [
    {
     "data": {
      "image/png": "[encoded data removed]",
      "text/plain": [
       "<Figure size 432x288 with 1 Axes>"
      ]
     },
     "metadata": {
      "needs_background": "light"
     },
     "output_type": "display_data"
    }
   ],
   "source": [
    "x = np.linspace(0, 7, 50)\n",
    "y1 = np.sqrt(x)\n",
    "plt.plot(x, y1, lw = 2, c = 'b')\n",
    "\n",
    "x = np.linspace(-4, 7, 50)\n",
    "y2 = x/4 + 1\n",
    "plt.plot(x, y2, c = 'r')\n",
    "\n",
    "plt.xlabel('x')\n",
    "plt.ylabel('y')\n",
    "plt.grid(True, linestyle = '-', color = '0.4')\n",
    "plt.show()"
   ]
  },
  {
   "cell_type": "markdown",
   "id": "54cb6b69",
   "metadata": {},
   "source": [
    "## Исследование функции"
   ]
  },
  {
   "cell_type": "code",
   "execution_count": 26,
   "id": "ee1a849d",
   "metadata": {
    "scrolled": false
   },
   "outputs": [
    {
     "data": {
      "image/png": "[encoded data removed]",
      "text/plain": [
       "<Figure size 432x288 with 1 Axes>"
      ]
     },
     "metadata": {
      "needs_background": "light"
     },
     "output_type": "display_data"
    }
   ],
   "source": [
    "t = np.linspace(-1.5, 5, 100)\n",
    "f = t**3 - 5*t**2 + 5\n",
    "fd = 3*t**2 - 10*t\n",
    "fdd = 6*t - 10\n",
    "plt.plot(t, f, lw = 2, color = 'red', label = \"$y(x)$\")\n",
    "plt.plot(t, fd, '--', lw = 2, color = 'b', label = \"$y^{'}(x)$\")\n",
    "plt.plot(t, fdd, '-.', color = 'g', label = \"$y^{''}(x)$\")\n",
    "plt.plot([0], [0], 'o', color = 'y')\n",
    "plt.plot([0], [5], 'o', color = 'y')\n",
    "plt.plot([3.3], [0], 'o', color = 'y')\n",
    "plt.plot([3.3], [-13.4], 'o', color = 'y')\n",
    "plt.plot([1.65], [0], 'o', color = 'b')\n",
    "plt.plot([1.65], [-4], 'o', color = 'b')\n",
    "plt.grid(True, linestyle = '-', color = '0.4')\n",
    "plt.legend()\n",
    "plt.show()"
   ]
  },
  {
   "cell_type": "markdown",
   "id": "7de804f6",
   "metadata": {},
   "source": [
    "## Экстремум функции одной переменной"
   ]
  },
  {
   "cell_type": "code",
   "execution_count": 27,
   "id": "216c3138",
   "metadata": {
    "scrolled": true
   },
   "outputs": [
    {
     "data": {
      "text/latex": [
       "$\\displaystyle - \\sqrt{3} < x \\wedge x < \\sqrt{3}$"
      ],
      "text/plain": [
       "(x < sqrt(3)) & (-sqrt(3) < x)"
      ]
     },
     "execution_count": 27,
     "metadata": {},
     "output_type": "execute_result"
    }
   ],
   "source": [
    "from scipy.optimize import minimize\n",
    "x, y = symbols('x, y')\n",
    "solve(x**2 < 3)"
   ]
  },
  {
   "cell_type": "code",
   "execution_count": 28,
   "id": "6016d989",
   "metadata": {},
   "outputs": [
    {
     "data": {
      "text/plain": [
       "[-y, y]"
      ]
     },
     "execution_count": 28,
     "metadata": {},
     "output_type": "execute_result"
    }
   ],
   "source": [
    "solve(x**2 - y**2, x)"
   ]
  },
  {
   "cell_type": "code",
   "execution_count": 29,
   "id": "d13c8cfc",
   "metadata": {},
   "outputs": [],
   "source": [
    "f = lambda x: np.exp(-x) - np.exp(-2*x)"
   ]
  },
  {
   "cell_type": "code",
   "execution_count": 30,
   "id": "8b541f3d",
   "metadata": {},
   "outputs": [
    {
     "data": {
      "image/png": "[encoded data removed]",
      "text/plain": [
       "<Figure size 432x288 with 1 Axes>"
      ]
     },
     "metadata": {
      "needs_background": "light"
     },
     "output_type": "display_data"
    }
   ],
   "source": [
    "x = np.linspace(0.1, 4, 50)\n",
    "plt.plot(x, f(x), 'r')\n",
    "plt.xlabel('X')\n",
    "plt.ylabel('Y')\n",
    "plt.grid(True, linestyle = '-', color = '0.4')\n",
    "plt.show()"
   ]
  },
  {
   "cell_type": "code",
   "execution_count": 31,
   "id": "5d555cc1",
   "metadata": {},
   "outputs": [
    {
     "name": "stdout",
     "output_type": "stream",
     "text": [
      "x_max: 0.693 f_max: 0.250\n"
     ]
    }
   ],
   "source": [
    "f_max = lambda x: -(np.exp(-x) - np.exp(-2*x))\n",
    "res = minimize(f_max, -2)\n",
    "print('x_max: %.3f f_max: %.3f' % (res.x, f(res.x)))"
   ]
  },
  {
   "cell_type": "code",
   "execution_count": 33,
   "id": "194eed80",
   "metadata": {
    "scrolled": true
   },
   "outputs": [
    {
     "data": {
      "text/plain": [
       "      fun: -0.24999999999945666\n",
       " hess_inv: array([[1.98553383]])\n",
       "      jac: array([-7.26431608e-07])\n",
       "  message: 'Optimization terminated successfully.'\n",
       "     nfev: 26\n",
       "      nit: 12\n",
       "     njev: 13\n",
       "   status: 0\n",
       "  success: True\n",
       "        x: array([0.69314571])"
      ]
     },
     "execution_count": 33,
     "metadata": {},
     "output_type": "execute_result"
    }
   ],
   "source": [
    "res"
   ]
  },
  {
   "cell_type": "code",
   "execution_count": 34,
   "id": "1a63f701",
   "metadata": {},
   "outputs": [],
   "source": [
    "def tangent_plane(F, M):\n",
    "    F_diff_x = diff(F, x).subs({x:M.x, y:M.y, z:M.z})\n",
    "    F_diff_y = diff(F, y).subs({x:M.x, y:M.y, z:M.z})\n",
    "    F_diff_z = diff(F, z).subs({x:M.x, y:M.y, z:M.z})\n",
    "    n = Point(F_diff_x, F_diff_y, F_diff_z)\n",
    "    p = Plane(M, normal_vector = n).equation()\n",
    "    K = Point(M.x+n.x, M.y+n.y, M.z+n.z)\n",
    "    l_n = Line(M, K).arbitrary_point()\n",
    "    \n",
    "    return p, l_n"
   ]
  },
  {
   "cell_type": "code",
   "execution_count": 35,
   "id": "2db9b4d4",
   "metadata": {},
   "outputs": [],
   "source": [
    "x, y, z = symbols('x y z')\n",
    "M = Point(1, 1, 1)\n",
    "F = x**2 + y**2 + z**2 - 9\n",
    "p, l_n = tangent_plane(F, M)"
   ]
  },
  {
   "cell_type": "code",
   "execution_count": 36,
   "id": "f3fc236a",
   "metadata": {},
   "outputs": [
    {
     "data": {
      "text/latex": [
       "$\\displaystyle 2 x + 2 y + 2 z - 6$"
      ],
      "text/plain": [
       "2*x + 2*y + 2*z - 6"
      ]
     },
     "execution_count": 36,
     "metadata": {},
     "output_type": "execute_result"
    }
   ],
   "source": [
    "p"
   ]
  },
  {
   "cell_type": "code",
   "execution_count": 37,
   "id": "297c50fa",
   "metadata": {},
   "outputs": [
    {
     "data": {
      "text/latex": [
       "$\\displaystyle Point3D\\left(2 t + 1, 2 t + 1, 2 t + 1\\right)$"
      ],
      "text/plain": [
       "Point3D(2*t + 1, 2*t + 1, 2*t + 1)"
      ]
     },
     "execution_count": 37,
     "metadata": {},
     "output_type": "execute_result"
    }
   ],
   "source": [
    "l_n"
   ]
  },
  {
   "cell_type": "code",
   "execution_count": 39,
   "id": "af3ac424",
   "metadata": {},
   "outputs": [
    {
     "data": {
      "text/plain": [
       "array([0.99999999, 2.98725136])"
      ]
     },
     "execution_count": 39,
     "metadata": {},
     "output_type": "execute_result"
    }
   ],
   "source": [
    "z = lambda w: (w[0] - 1)**2 + (w[1] - 3)**4\n",
    "res = minimize(z, (0, 0))\n",
    "res.x"
   ]
  },
  {
   "cell_type": "code",
   "execution_count": 40,
   "id": "6376a249",
   "metadata": {},
   "outputs": [
    {
     "data": {
      "text/plain": [
       "array([1.00000001, 3.001     ])"
      ]
     },
     "execution_count": 40,
     "metadata": {},
     "output_type": "execute_result"
    }
   ],
   "source": [
    "res = minimize(z, (9.999, 3.001))\n",
    "res.x"
   ]
  },
  {
   "cell_type": "code",
   "execution_count": 41,
   "id": "5df08a32",
   "metadata": {},
   "outputs": [
    {
     "data": {
      "text/plain": [
       "True"
      ]
     },
     "execution_count": 41,
     "metadata": {},
     "output_type": "execute_result"
    }
   ],
   "source": [
    "z((1, 3)) < z((0.999, 3.001))"
   ]
  },
  {
   "cell_type": "code",
   "execution_count": 42,
   "id": "64743be8",
   "metadata": {},
   "outputs": [
    {
     "data": {
      "text/plain": [
       "0"
      ]
     },
     "execution_count": 42,
     "metadata": {},
     "output_type": "execute_result"
    }
   ],
   "source": [
    "z((1, 3))"
   ]
  },
  {
   "cell_type": "code",
   "execution_count": 44,
   "id": "3da50933",
   "metadata": {},
   "outputs": [
    {
     "name": "stdout",
     "output_type": "stream",
     "text": [
      "E_x: 0.33 E_y: 0.66\n"
     ]
    }
   ],
   "source": [
    "z = lambda w: w[0]**4 + w[1]**4 - 2*w[0]**2 + \\\n",
    "              4*w[0]*w[1] - 2*w[1]**2\n",
    "z = 4.5*x**(0.33) * y**(0.66)\n",
    "z_x = diff(z, x)\n",
    "z_y = diff(z, y)\n",
    "\n",
    "E_x = (x/z) * z_x\n",
    "E_y = (y/z) * z_y\n",
    "print('E_x: %.2f E_y: %.2f' % (E_x, E_y))"
   ]
  },
  {
   "cell_type": "code",
   "execution_count": 45,
   "id": "27c4f51f",
   "metadata": {},
   "outputs": [
    {
     "data": {
      "text/plain": [
       "[-sqrt(5), sqrt(5)]"
      ]
     },
     "execution_count": 45,
     "metadata": {},
     "output_type": "execute_result"
    }
   ],
   "source": [
    "K, V0 = symbols('K, V0')\n",
    "V = V0*log(5+K**2)\n",
    "Vprim2 = diff(V, K, 2)\n",
    "Vprim3 = diff(V, K, 3)\n",
    "s = solve(Vprim2, K)\n",
    "s"
   ]
  },
  {
   "cell_type": "code",
   "execution_count": 46,
   "id": "fb4c7c2c",
   "metadata": {},
   "outputs": [
    {
     "data": {
      "text/latex": [
       "$\\displaystyle - \\frac{\\sqrt{5} V_{0}}{25}$"
      ],
      "text/plain": [
       "-sqrt(5)*V0/25"
      ]
     },
     "execution_count": 46,
     "metadata": {},
     "output_type": "execute_result"
    }
   ],
   "source": [
    "Vprim3.subs(K, s[1])"
   ]
  }
 ],
 "metadata": {
  "kernelspec": {
   "display_name": "Python 3",
   "language": "python",
   "name": "python3"
  },
  "language_info": {
   "codemirror_mode": {
    "name": "ipython",
    "version": 3
   },
   "file_extension": ".py",
   "mimetype": "text/x-python",
   "name": "python",
   "nbconvert_exporter": "python",
   "pygments_lexer": "ipython3",
   "version": "3.8.8"
  }
 },
 "nbformat": 4,
 "nbformat_minor": 5
}
